{
  "nbformat": 4,
  "nbformat_minor": 0,
  "metadata": {
    "colab": {
      "name": "PRP_Assignment-4_P2.ipynb",
      "provenance": [],
      "collapsed_sections": [],
      "toc_visible": true
    },
    "kernelspec": {
      "name": "python3",
      "display_name": "Python 3"
    }
  },
  "cells": [
    {
      "cell_type": "markdown",
      "metadata": {
        "id": "M89jb_UPCEau"
      },
      "source": [
        "# **PRP Assignmnet-4: Image Denoising by Non-Local Means**"
      ]
    },
    {
      "cell_type": "code",
      "metadata": {
        "id": "01NM5ovamhvM"
      },
      "source": [
        "#### Different Librarires ####\n",
        "from numba import jit\n",
        "import cv2\n",
        "import numpy as np\n",
        "import matplotlib.pyplot as plt\n",
        "from scipy.ndimage import gaussian_filter"
      ],
      "execution_count": 1,
      "outputs": []
    },
    {
      "cell_type": "markdown",
      "metadata": {
        "id": "nzv0l6oc8l5I"
      },
      "source": [
        "Note: Run all the cells one by one."
      ]
    },
    {
      "cell_type": "markdown",
      "metadata": {
        "id": "BHcyGcpwFOf5"
      },
      "source": [
        "# **Extracting Files**\n",
        "\n",
        "Here we access the files from GitHub Repository."
      ]
    },
    {
      "cell_type": "code",
      "metadata": {
        "id": "WVshhe86CD6C"
      },
      "source": [
        "## Cloning GitHub Repository ##\n",
        "!git clone --quiet https://github.com/sanket2812/Image_Denoising_Non-Local-Means\n",
        "\n"
      ],
      "execution_count": 2,
      "outputs": []
    },
    {
      "cell_type": "markdown",
      "metadata": {
        "id": "Q_cbwxq8_ad8"
      },
      "source": [
        "# **Gaussian Weight Calculating Function**\n",
        "\n",
        "This calculates the Gaussian weights for a particular size of window. This helps in increaseing the contribution of the nearby pixels rather then the pixels which are far from the given pixel. "
      ]
    },
    {
      "cell_type": "code",
      "metadata": {
        "id": "b7b6a-oI_aR-"
      },
      "source": [
        "def gauss_weights_calculate(win_size=(7,7),sigma=20):    \n",
        "    err = 1e-16                                                                 #Error term (User can change this according to his/her convenience)\n",
        "    v1 , v2 = [(i-1)/2.0 for i in win_size]\n",
        "    y,x = np.ogrid[-v1:v1+1 , -v2:v2+1]\n",
        "    g_weights = np.exp(-(x*x + y*y)/(2.0 * sigma**2))                           #Calculating Weigths\n",
        "    g_weights[ g_weights < err ] = 0                                            #If weights are less then a certain amount(error) make it zero\n",
        "    sum = g_weights.sum()\n",
        "    if sum != 0:\n",
        "      g_weights = g_weights/sum\n",
        "      \n",
        "    return g_weights"
      ],
      "execution_count": 3,
      "outputs": []
    },
    {
      "cell_type": "markdown",
      "metadata": {
        "id": "zTwHFMngrzoS"
      },
      "source": [
        "# **Window Making Functions**\n",
        "\n",
        "This function will create a square window and the center of the window will be the given pixel.\n",
        "\n",
        "Both search window and neighbourdhood window making functions are in this cell."
      ]
    },
    {
      "cell_type": "code",
      "metadata": {
        "id": "CLY9T7_qo-ZL"
      },
      "source": [
        "@jit(nopython=True, cache=True)\n",
        "def make_window(pic,y,x,win_size):\n",
        "    window = np.zeros((win_size,win_size))                                      #Finding picture dimension \n",
        "    h, w = pic.shape                                                            #Initializing Window\n",
        "    \n",
        "    middle = win_size//2                                                        #Middle of Window\n",
        "\n",
        "    xmax = min(w, x + middle+1)                                                 #Four \n",
        "    xmin = max(0, x - middle)                                                   #Coordinates \n",
        "    ymax = min(h, y + middle+1)                                                 #of the \n",
        "    ymin = max(0, y - middle)                                                   #window\n",
        "    \n",
        "    pxmax = middle + (xmax-x)\n",
        "    pxmin = middle - (x-xmin)    \n",
        "    pymax = middle + (ymax-y)\n",
        "    pymin = middle - (y-ymin)\n",
        "\n",
        "    \n",
        "    window[pymin:pymax , pxmin:pxmax] = pic[ymin:ymax , xmin:xmax]\n",
        "    \n",
        "    return window\n",
        "\n",
        "@jit(nopython=True, cache=True)\n",
        "def search_window(neighbours,y,x,se_win_size,win_size):\n",
        "    window = np.zeros((se_win_size,se_win_size,win_size,win_size))              #Finding picture dimension   \n",
        "    h, w = neighbours.shape[0],neighbours.shape[1]                              #Initializing Window  \n",
        "        \n",
        "    middle = se_win_size//2                                                     #Middle of Window\n",
        "\n",
        "    xmax = min(w, x + middle+1)                                                 #Four \n",
        "    xmin = max(0, x - middle)                                                   #Coordinates \n",
        "    ymax = min(h, y + middle+1)                                                 #of the   \n",
        "    ymin = max(0, y - middle)                                                   #window\n",
        "    \n",
        "    pxmax = middle + (xmax-x)\n",
        "    pxmin = middle - (x-xmin)    \n",
        "    pymax = middle + (ymax-y)\n",
        "    pymin = middle - (y-ymin)\n",
        "    \n",
        "    window[pymin:pymax,pxmin:pxmax,:,:] = neighbours[ymin:ymax,xmin:xmax,:,:]\n",
        "    \n",
        "    return window"
      ],
      "execution_count": 4,
      "outputs": []
    },
    {
      "cell_type": "markdown",
      "metadata": {
        "id": "aUXLZ8Iwtcv3"
      },
      "source": [
        "# **Finding Neighbours**\n",
        "\n",
        "This function finds the neighbours of every pixel in the given image. The neighbours are in a square window, having the selected pixel at the center of the window.\n"
      ]
    },
    {
      "cell_type": "code",
      "metadata": {
        "id": "FY8FqFSG0L5a"
      },
      "source": [
        "@jit(nopython=True, cache=True)\n",
        "def find_neighbours(pic,win_size):\n",
        "    h,w = pic.shape\n",
        "    neighbour = np.zeros((h,w,win_size,win_size))\n",
        "    for y in range(h):\n",
        "        for x in range(w):\n",
        "            neighbour[y,x] = make_window(pic,y,x,win_size)\n",
        "    \n",
        "    return neighbour"
      ],
      "execution_count": 5,
      "outputs": []
    },
    {
      "cell_type": "markdown",
      "metadata": {
        "id": "R9UYTFNIuMzO"
      },
      "source": [
        "# **Similarity Weight Calculating Function**\n",
        "\n",
        "This function find the weight of each pixel which are in the square neighbourhood window of the selected pixel.Weights are calculated depending upon the similarity of the intensity level of the selected pixels to the intensity level of the neighbourhood pixels."
      ]
    },
    {
      "cell_type": "code",
      "metadata": {
        "id": "0bsY-6jy5Cah"
      },
      "source": [
        "@jit(nopython=True, cache=True)\n",
        "def weight_similar(current_window, window, gauss_weights,h=12):                 # The filtering parameter h can be changed depending \n",
        "                                                                                # upon the requirement\n",
        "    norm = ((np.square(current_window - window) * gauss_weights).sum(axis = 3)).sum(axis=2)\n",
        "    norm = norm/h**2\n",
        "    similar = np.exp(-norm)\n",
        "    Z = np.sum(similar)\n",
        "    weight = similar/Z\n",
        "    return weight"
      ],
      "execution_count": 6,
      "outputs": []
    },
    {
      "cell_type": "markdown",
      "metadata": {
        "id": "NoyB8NKvBfjF"
      },
      "source": [
        "# **Filtering Algorithms**"
      ]
    },
    {
      "cell_type": "markdown",
      "metadata": {
        "id": "UD-TsrsOBslR"
      },
      "source": [
        "## **Gaussian Filtering**\n",
        "\n",
        "The gaussian filtering is done here."
      ]
    },
    {
      "cell_type": "code",
      "metadata": {
        "id": "0DCiWJI4BfKV"
      },
      "source": [
        "def gaussian_filtering(pic,sigma=1):                                            # The Gaussian Filtering Parameter sigma can be changed here\n",
        "                                                                                # according to the requirement  \n",
        "    return gaussian_filter(pic, sigma)\n",
        "  "
      ],
      "execution_count": 7,
      "outputs": []
    },
    {
      "cell_type": "markdown",
      "metadata": {
        "id": "_kGwYWL-CDeA"
      },
      "source": [
        "## **Non-Local Means**\n",
        "This is the main function through which different functions will be called and finally the image will be filtered by non-local means algorithm."
      ]
    },
    {
      "cell_type": "code",
      "metadata": {
        "id": "9IMzn1eyCD3O"
      },
      "source": [
        "def NLM(pic):\n",
        "    win_size=7                                                                  #Neighbourhood Window Size , Can change it from here\n",
        "    se_win_size=21                                                              #Search Window Size, Can change it from here\n",
        "    h,w = pic.shape\n",
        "    pic_evalute = np.copy(pic)\n",
        "    neighbour = find_neighbours(pic,win_size)                                   #Finding the neighboours of all the pixel\n",
        "    gauss_weights = gauss_weights_calculate((win_size,win_size))                #Finding Gaussian weights\n",
        "    for y in range(h):\n",
        "        for x in range(w):\n",
        "            presnt_wind = neighbour[y,x,:,:]\n",
        "            se_neighbours = search_window(neighbour,y,x,se_win_size,win_size)   #Making Search Window\n",
        "            pixel_neighb = make_window(pic_evalute,y,x,se_win_size)                       \n",
        "            weight = weight_similar(se_neighbours,presnt_wind,gauss_weights)    #Finding the weights according to the similarity of intensity level \n",
        "            pic_evalute[y,x] = int(np.sum(weight * pixel_neighb))               #Final value of pixel\n",
        "    \n",
        "    return pic_evalute"
      ],
      "execution_count": 8,
      "outputs": []
    },
    {
      "cell_type": "markdown",
      "metadata": {
        "id": "7nc7rSE38CNm"
      },
      "source": [
        "# **MSE and PSNR Calculating Function**\n",
        "\n",
        "This function calculates the MSE and PSNR between two given images, for our case one is noisy image and the other is ground truth."
      ]
    },
    {
      "cell_type": "code",
      "metadata": {
        "id": "FdY60UIavZ4O"
      },
      "source": [
        "def mse_psnr(pic, gnd_tru):\n",
        "    max_pix = 255.0\n",
        "    mse = np.mean((pic.astype(float) - gnd_tru.astype(float)) ** 2) \n",
        "    psnr = 20 * np.log10(max_pix / np.sqrt(mse)) \n",
        "    \n",
        "    return mse, psnr"
      ],
      "execution_count": 9,
      "outputs": []
    },
    {
      "cell_type": "markdown",
      "metadata": {
        "id": "XhidNRqJ_m4C"
      },
      "source": [
        "# **Main Cell**\n",
        "\n",
        "This is the main cell where we read the ground truth and noisy image and then call the NLM and Gaussian Filtering functions for removing noise and then compare the results by calculating MSE and PSNR.\n",
        "\n",
        "Note: This will take a few minutes to run and give the output."
      ]
    },
    {
      "cell_type": "code",
      "metadata": {
        "id": "m5guxPfjAC_U"
      },
      "source": [
        "## Change the path here if you want to perform it with a different image ##\n",
        "g_truth = cv2.imread(\"/content/Image_Denoising_Non-Local-Means/Ground_Truth/Image1.png\",cv2.IMREAD_GRAYSCALE)             ## Add ground truth here\n",
        "noise_pic = cv2.imread(\"/content/Image_Denoising_Non-Local-Means/Gaussian_Noise_Images/Image1.png\",cv2.IMREAD_GRAYSCALE)  ## Add image having noise here\n",
        "noise_score = mse_psnr(noise_pic,g_truth)\n",
        "nlm_filter = NLM(noise_pic)\n",
        "nlm_mse_psnr = mse_psnr(nlm_filter, g_truth)\n",
        "gauss_filter = gaussian_filtering(noise_pic)\n",
        "gauss_mse_psnr = mse_psnr(gauss_filter, g_truth)\n",
        "\n",
        "## Parameters Used for Filtering the Image ##\n",
        "Gauss_param_sigma = 1\n",
        "h = 12\n",
        "\n",
        "## Making the Plot ## \n",
        "fig = plt.figure(figsize=(12,12))\n",
        "plt.suptitle('NLM Filtering Parameter h = {}, Gaussian Filtering Sigma = {}'.format(h,Gauss_param_sigma),fontsize=16,y = 0.94)\n",
        "\n",
        "## Figure 1: Ground Truth ##\n",
        "ax1 = fig.add_subplot(2,2,1, title = \"Ground Truth\")\n",
        "plt.xticks([])\n",
        "plt.yticks([])\n",
        "ax1.imshow(g_truth, cmap = 'gray')\n",
        "## Figure 2: NLM Filtered Image ##\n",
        "ax2 = fig.add_subplot(2,2,2, title = \"NLM Filtering \\nMSE: {:.2f}, PSNR: {:.2f}\".format(nlm_mse_psnr[0],nlm_mse_psnr[1])) \n",
        "plt.xticks([])\n",
        "plt.yticks([])\n",
        "ax2.imshow(nlm_filter, cmap = 'gray')\n",
        "## Figure 3: Image with Noise ##\n",
        "ax3 = fig.add_subplot(2,2,3, title = \"Image with Noise \\nMSE: {:.2f}, PSNR: {:.2f}\".format(noise_score[0],noise_score[1])) \n",
        "plt.xticks([])\n",
        "plt.yticks([])\n",
        "ax3.imshow(noise_pic, cmap = 'gray')\n",
        "\n",
        "## Figure 4: Gauss Filtered Image ##\n",
        "ax4 = fig.add_subplot(2,2,4, title = \"Gaussian Filtering \\nMSE: {:.2f}, PSNR: {:.2f}\".format(gauss_mse_psnr[0],gauss_mse_psnr[1]))\n",
        "ax4.imshow(gauss_filter, cmap = 'gray')\n",
        "plt.xticks([])\n",
        "plt.yticks([])\n",
        "plt.savefig(\"Result.png\")"
      ],
      "execution_count": null,
      "outputs": []
    }
  ]
}