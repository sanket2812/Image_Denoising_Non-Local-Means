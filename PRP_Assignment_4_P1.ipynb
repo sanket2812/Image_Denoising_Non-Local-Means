{
  "nbformat": 4,
  "nbformat_minor": 0,
  "metadata": {
    "colab": {
      "name": "PRP_Assignment-4_P1.ipynb",
      "provenance": [],
      "collapsed_sections": [],
      "toc_visible": true
    },
    "kernelspec": {
      "name": "python3",
      "display_name": "Python 3"
    }
  },
  "cells": [
    {
      "cell_type": "markdown",
      "metadata": {
        "id": "sUWBQrw3OuAr"
      },
      "source": [
        "# **PRP Assignmnet-4: Image Denoising by Non-Local Means**\n",
        "## **Part-1: Addition of Noise in Image**\n",
        "\n",
        "\n"
      ]
    },
    {
      "cell_type": "code",
      "metadata": {
        "id": "RLp90_puOjq3"
      },
      "source": [
        "#### Different Librarires ####\n",
        "import os\n",
        "import cv2\n",
        "import numpy as np\n",
        "from google.colab.patches import cv2_imshow\n",
        "import warnings\n",
        "warnings.filterwarnings('ignore')"
      ],
      "execution_count": 1,
      "outputs": []
    },
    {
      "cell_type": "markdown",
      "metadata": {
        "id": "s0TCrl2RDWCZ"
      },
      "source": [
        "Note: Run all the cells one by one."
      ]
    },
    {
      "cell_type": "markdown",
      "metadata": {
        "id": "6YUToh4tPeuI"
      },
      "source": [
        "# **Extracting Files**\n",
        "\n",
        "Here we access the files from GitHub Repository."
      ]
    },
    {
      "cell_type": "code",
      "metadata": {
        "id": "vImF5Z7OPgkT"
      },
      "source": [
        "## Cloning GitHub Repository ##\n",
        "!git clone --quiet https://github.com/sanket2812/Image_Denoising_Non-Local-Means\n",
        "\n"
      ],
      "execution_count": 2,
      "outputs": []
    },
    {
      "cell_type": "markdown",
      "metadata": {
        "id": "V8gWgXlNkmdZ"
      },
      "source": [
        "Making Folders for Storing Images with Noise"
      ]
    },
    {
      "cell_type": "code",
      "metadata": {
        "id": "DsPZ33AyQp1b"
      },
      "source": [
        "os.mkdir(\"/content/Ground_Truth/\")\n",
        "os.mkdir(\"/content/Gaussian_Noise_Images/\")\n",
        "os.mkdir(\"/content/SP_Noise_Images/\")"
      ],
      "execution_count": 3,
      "outputs": []
    },
    {
      "cell_type": "markdown",
      "metadata": {
        "id": "xUAvsEk8QZqc"
      },
      "source": [
        "# Noise Addition in Images "
      ]
    },
    {
      "cell_type": "markdown",
      "metadata": {
        "id": "DnJNGY7YQe0Q"
      },
      "source": [
        "## Noise Addition Funciton\n",
        "\n",
        "\n",
        "\n",
        "\n",
        "\n"
      ]
    },
    {
      "cell_type": "code",
      "metadata": {
        "id": "4D0jUVWfQiEr"
      },
      "source": [
        "## Salt and Pepper Noise ##\n",
        "def salt_pepper_noise(pic):\n",
        "    pic_noise = np.copy(pic)\n",
        "    h,w = pic.shape\n",
        "    t_size = h*w\n",
        "    salt_per = 0.5\n",
        "    pepper_per = 1 - salt_per\n",
        "    mag = 0.005\n",
        "\n",
        "    # Adding Pepper \n",
        "    pepper = np.ceil(mag * t_size * pepper_per)\n",
        "    index = [np.random.randint(0, i - 1, size=int(pepper)) for i in pic.shape]\n",
        "    pic_noise[index] = 0\n",
        "\n",
        "    # Adding Salt \n",
        "    salt = np.ceil(mag * t_size * salt_per)\n",
        "    index = [np.random.randint(0, i - 1, size=int(salt)) for i in pic.shape]\n",
        "    pic_noise[index] = 255\n",
        "        \n",
        "    return pic_noise\n",
        "\n",
        "## Gaussian Noise ##\n",
        "def gaussian_noise(pic):\n",
        "    h,w = pic.shape\n",
        "    mean = 0\n",
        "    sigma = np.sqrt(4)\n",
        "    mag = 4\n",
        "    gauss_noise = np.random.normal(mean,sigma,(h,w)).reshape(h,w)\n",
        "    pic_noise = pic + mag*gauss_noise\n",
        "    \n",
        "    return pic_noise"
      ],
      "execution_count": 4,
      "outputs": []
    },
    {
      "cell_type": "markdown",
      "metadata": {
        "id": "Tsblcxy3jFNp"
      },
      "source": [
        "## Saving the Images"
      ]
    },
    {
      "cell_type": "code",
      "metadata": {
        "id": "R-BAoOWIjEaq"
      },
      "source": [
        "pictures = os.listdir('/content/Image_Denoising_Non-Local-Means/Data/')\n",
        "\n",
        "for num in pictures:  \n",
        "    pic = cv2.imread('/content/Image_Denoising_Non-Local-Means/Data/'+ num,cv2.IMREAD_GRAYSCALE)  \n",
        "    p_g_noise = gaussian_noise(pic)                                             #Adding Gaussian Noise\n",
        "    p_sp_noise = salt_pepper_noise(pic)                                         #Adding Salt and Pepper Noise\n",
        "    cv2.imwrite(\"/content/Ground_Truth/\" + num, pic)                            #Saving Ground Truth\n",
        "    cv2.imwrite(\"/content/Gaussian_Noise_Images/\" + num, p_g_noise)             #Saving Image with Gaussian Noise\n",
        "    cv2.imwrite(\"/content/SP_Noise_Images/\" + num, p_sp_noise)                  #Saving Image With Salt and Pepper\n",
        "\n",
        "### The saved images can be seen, from the Files option on the left hand side\n",
        "### Click on Files option, you will see some folders there\n",
        "### The folder named: \n",
        "###                   Ground_Truth contains the Ground Truth \n",
        "###                   Gaussian_Noise_Images contains the images having gaussian noise\n",
        "###                   SP_Noise_Images contains the images with salt and pepper noise\n",
        "\n",
        "### Open the folder you want to see and then double click on the image to see the image"
      ],
      "execution_count": 5,
      "outputs": []
    }
  ]
}